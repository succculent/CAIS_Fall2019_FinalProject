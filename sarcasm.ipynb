{
 "cells": [
  {
   "cell_type": "code",
   "execution_count": 1,
   "metadata": {},
   "outputs": [],
   "source": [
    "import csv\n",
    "import os\n",
    "import numpy as np\n",
    "import pandas as pd\n",
    "from tensorflow.keras.preprocessing.text import Tokenizer\n",
    "from tensorflow.keras.preprocessing.sequence import pad_sequences\n",
    "from tensorflow.keras.layers import Embedding\n",
    "from tensorflow.keras.layers import Embedding\n",
    "from tensorflow.keras.layers import Dense, Input, Flatten\n",
    "from tensorflow.keras.layers import Conv1D, MaxPooling1D, Embedding, Dropout, LSTM, GRU, Bidirectional\n",
    "from tensorflow.keras.models import Model\n",
    "from tensorflow.keras import backend as K\n",
    "from tensorflow.keras import regularizers, initializers, optimizers, callbacks\n",
    "from tensorflow.keras.utils import to_categorical"
   ]
  },
  {
   "cell_type": "code",
   "execution_count": 2,
   "metadata": {},
   "outputs": [],
   "source": [
    "os.environ[\"CUDA_VISIBLE_DEVICES\"]=\"1\""
   ]
  },
  {
   "cell_type": "code",
   "execution_count": 3,
   "metadata": {},
   "outputs": [],
   "source": [
    "train_df = pd.read_csv('/hdd/datasets/sarcasm/train-balanced-sarcasm.csv')"
   ]
  },
  {
   "cell_type": "code",
   "execution_count": 4,
   "metadata": {},
   "outputs": [
    {
     "name": "stdout",
     "output_type": "stream",
     "text": [
      "   label                                            comment\n",
      "0      0                                         NC and NH.\n",
      "1      0  You do know west teams play against west teams...\n",
      "2      0  They were underdogs earlier today, but since G...\n",
      "3      0  This meme isn't funny none of the \"new york ni...\n",
      "4      0                    I could use one of those tools.\n"
     ]
    }
   ],
   "source": [
    "train_df = train_df.drop(train_df.columns[[2,3,4,5,6,7,8,9]], axis=1)\n",
    "print(train_df.head())\n",
    "\n",
    "comments = train_df['comment'].tolist()\n",
    "comments = [i.split(' ') for i in comments if isinstance(i, str)]"
   ]
  },
  {
   "cell_type": "code",
   "execution_count": 5,
   "metadata": {},
   "outputs": [],
   "source": [
    "train_df['length'] = train_df['comment'].str.len()\n",
    "train_df = train_df.dropna()\n",
    "\n",
    "ax = train_df['length'].plot.hist(bins=50)"
   ]
  },
  {
   "cell_type": "code",
   "execution_count": 6,
   "metadata": {},
   "outputs": [
    {
     "data": {
      "image/png": "[encoded data removed]",
      "text/plain": [
       "<Figure size 432x288 with 1 Axes>"
      ]
     },
     "metadata": {
      "needs_background": "light"
     },
     "output_type": "display_data"
    }
   ],
   "source": [
    "train_df = train_df[train_df['length'] <= 40]\n",
    "train_df = train_df[train_df['length'] >= 20]\n",
    "ax = train_df['length'].plot.hist(bins=50)"
   ]
  },
  {
   "cell_type": "code",
   "execution_count": 7,
   "metadata": {},
   "outputs": [
    {
     "data": {
      "image/png": "[encoded data removed]",
      "text/plain": [
       "<Figure size 432x288 with 1 Axes>"
      ]
     },
     "metadata": {
      "needs_background": "light"
     },
     "output_type": "display_data"
    }
   ],
   "source": [
    "train_df['words'] = train_df['comment'].str.split().apply(len)\n",
    "ax = train_df['words'].plot.hist(bins=50)\n",
    "train_df = train_df[train_df['words'] >= 4]\n",
    "train_df = train_df[train_df['words'] <= 7]"
   ]
  },
  {
   "cell_type": "code",
   "execution_count": 8,
   "metadata": {},
   "outputs": [
    {
     "data": {
      "image/png": "[encoded data removed]",
      "text/plain": [
       "<Figure size 432x288 with 1 Axes>"
      ]
     },
     "metadata": {
      "needs_background": "light"
     },
     "output_type": "display_data"
    }
   ],
   "source": [
    "ax = train_df['words'].plot.hist(bins=20)"
   ]
  },
  {
   "cell_type": "code",
   "execution_count": 9,
   "metadata": {},
   "outputs": [
    {
     "name": "stdout",
     "output_type": "stream",
     "text": [
      "        label                                   comment  length  words\n",
      "121957      0  KENALKAN = pilihan kata yang lebih baik.    40.0      7\n",
      "712719      1  Yeah but it's just because we're jealous    40.0      7\n",
      "685393      1  The music definitely improved this video    40.0      6\n",
      "909404      1  Are vaccinations also bad for your dogs?    40.0      7\n",
      "485735      1  Stop being reasonable you stupid zionist    40.0      6\n",
      "...       ...                                       ...     ...    ...\n",
      "619907      1                      I miss CD Warehouse!    20.0      4\n",
      "222064      0                      Too little too late.    20.0      4\n",
      "619858      0                      What's on the stars?    20.0      4\n",
      "619815      0                      20 cents a terabyte.    20.0      4\n",
      "219503      0                      The state of denial?    20.0      4\n",
      "\n",
      "[226826 rows x 4 columns]\n",
      "1    116989\n",
      "0    109837\n",
      "Name: label, dtype: int64\n"
     ]
    },
    {
     "name": "stderr",
     "output_type": "stream",
     "text": [
      "/opt/anaconda/miniconda3/envs/caispp-tensorflow/lib/python3.7/site-packages/ipykernel_launcher.py:1: FutureWarning: by argument to sort_index is deprecated, please use .sort_values(by=...)\n",
      "  \"\"\"Entry point for launching an IPython kernel.\n"
     ]
    }
   ],
   "source": [
    "print(train_df.sort_index(by=['length'], ascending=False))\n",
    "print(train_df['label'].value_counts())"
   ]
  },
  {
   "cell_type": "code",
   "execution_count": 10,
   "metadata": {},
   "outputs": [],
   "source": [
    "comments = train_df['comment'].tolist()\n",
    "comments = [i.split(' ') for i in comments if isinstance(i, str)]"
   ]
  },
  {
   "cell_type": "code",
   "execution_count": 11,
   "metadata": {},
   "outputs": [
    {
     "name": "stdout",
     "output_type": "stream",
     "text": [
      "[['I', 'could', 'use', 'one', 'of', 'those', 'tools.'], ['Blade', 'Mastery+Masamune', 'or', 'GTFO!']]\n",
      "[[5, 116, 142, 53, 11, 82], [61]]\n"
     ]
    }
   ],
   "source": [
    "tokenizer = Tokenizer(num_words=1000)\n",
    "tokenizer.fit_on_texts(comments)\n",
    "\n",
    "tokens = tokenizer.texts_to_sequences(comments)\n",
    "\n",
    "print(comments[:2])\n",
    "print(tokens[:2])"
   ]
  },
  {
   "cell_type": "code",
   "execution_count": 12,
   "metadata": {},
   "outputs": [
    {
     "name": "stdout",
     "output_type": "stream",
     "text": [
      "Found 117913 unique tokens.\n"
     ]
    }
   ],
   "source": [
    "MAX_SEQUENCE_LENGTH = 7\n",
    "word_index = tokenizer.word_index\n",
    "print('Found %s unique tokens.' % len(word_index))\n",
    "data = np.array(pad_sequences(tokens, maxlen=MAX_SEQUENCE_LENGTH))"
   ]
  },
  {
   "cell_type": "code",
   "execution_count": 13,
   "metadata": {},
   "outputs": [],
   "source": [
    "indices = np.arange(data.shape[0])\n",
    "np.random.shuffle(indices)\n",
    "old_data = data[indices]\n",
    "old_labels = train_df['label'].values[indices]\n",
    "data = []\n",
    "labels = []\n",
    "\n",
    "for datum, label in zip(old_data, old_labels):\n",
    "    if datum[3] != 0:\n",
    "        data.append(datum)\n",
    "        labels.append(label)\n",
    "\n",
    "data = np.asarray(data)\n",
    "labels = to_categorical(np.asarray(labels))\n",
    "num_validation_samples = int(0.3 * data.shape[0])"
   ]
  },
  {
   "cell_type": "code",
   "execution_count": 14,
   "metadata": {},
   "outputs": [
    {
     "name": "stdout",
     "output_type": "stream",
     "text": [
      "Number of entries in each category:\n",
      "Training:\n",
      " [40245. 47536.]\n",
      "Validation:\n",
      " [17141. 20479.]\n"
     ]
    }
   ],
   "source": [
    "x_train = data[:-num_validation_samples]\n",
    "y_train = labels[:-num_validation_samples]\n",
    "x_val = data[-num_validation_samples:]\n",
    "y_val = labels[-num_validation_samples:]\n",
    "\n",
    "print('Number of entries in each category:')\n",
    "print(\"Training:\\n\",y_train.sum(axis=0))\n",
    "print(\"Validation:\\n\",y_val.sum(axis=0))"
   ]
  },
  {
   "cell_type": "code",
   "execution_count": 15,
   "metadata": {},
   "outputs": [],
   "source": [
    "EMBEDDING_DIM = 7\n",
    "# GLOVE_DIR = \"/hdd/datasets/sarcasm/\"\n",
    "# embeddings_index = {}\n",
    "# f = open(os.path.join(GLOVE_DIR, 'glove.twitter.27B.25d.txt'))\n",
    "# for line in f:\n",
    "#     values = line.split()\n",
    "#     word = values[0]\n",
    "#     coefs = np.asarray(values[1:], dtype='float32')\n",
    "#     embeddings_index[word] = coefs\n",
    "# f.close()\n",
    "\n",
    "# print(\"Found %s word vectors.\" % len(embeddings_index))"
   ]
  },
  {
   "cell_type": "code",
   "execution_count": 16,
   "metadata": {},
   "outputs": [],
   "source": [
    "# embedding_matrix = np.zeros((len(word_index) + 1, EMBEDDING_DIM))\n",
    "# for word, i in word_index.items():\n",
    "#     embedding_vector = embeddings_index.get(word)\n",
    "#     if embedding_vector is not None:\n",
    "#         # words not found in embedding index will be all-zeros.\n",
    "#         embedding_matrix[i] = embedding_vector"
   ]
  },
  {
   "cell_type": "code",
   "execution_count": 17,
   "metadata": {},
   "outputs": [
    {
     "name": "stderr",
     "output_type": "stream",
     "text": [
      "WARNING: Logging before flag parsing goes to stderr.\n",
      "W1203 17:55:36.488572 140002734540544 deprecation.py:506] From /opt/anaconda/miniconda3/envs/caispp-tensorflow/lib/python3.7/site-packages/tensorflow/python/keras/initializers.py:119: calling RandomUniform.__init__ (from tensorflow.python.ops.init_ops) with dtype is deprecated and will be removed in a future version.\n",
      "Instructions for updating:\n",
      "Call initializer instance with the dtype argument instead of passing it to the constructor\n"
     ]
    }
   ],
   "source": [
    "embedding_layer = Embedding(len(word_index) + 1,\n",
    "                            EMBEDDING_DIM,\n",
    "                            #weights=[embedding_matrix],\n",
    "                            input_length=MAX_SEQUENCE_LENGTH,\n",
    "                            trainable=False)"
   ]
  },
  {
   "cell_type": "code",
   "execution_count": 18,
   "metadata": {},
   "outputs": [
    {
     "name": "stderr",
     "output_type": "stream",
     "text": [
      "W1203 17:55:36.501235 140002734540544 deprecation.py:506] From /opt/anaconda/miniconda3/envs/caispp-tensorflow/lib/python3.7/site-packages/tensorflow/python/ops/init_ops.py:1251: calling VarianceScaling.__init__ (from tensorflow.python.ops.init_ops) with dtype is deprecated and will be removed in a future version.\n",
      "Instructions for updating:\n",
      "Call initializer instance with the dtype argument instead of passing it to the constructor\n"
     ]
    }
   ],
   "source": [
    "sequence_input = Input(shape=(MAX_SEQUENCE_LENGTH,), dtype='int32')\n",
    "embedded_sequences = embedding_layer(sequence_input)\n",
    "l_cov1= Conv1D(128, 4, activation='relu')(embedded_sequences)\n",
    "l_cov2= Conv1D(128, 2, activation='relu')(l_cov1)\n",
    "l_flat = Flatten()(l_cov2)\n",
    "drop = Dropout(0.5)(l_flat)\n",
    "l_dense = Dense(128, activation='relu')(drop)\n",
    "preds = Dense(2, activation='sigmoid')(l_dense)"
   ]
  },
  {
   "cell_type": "code",
   "execution_count": 19,
   "metadata": {},
   "outputs": [
    {
     "name": "stderr",
     "output_type": "stream",
     "text": [
      "W1203 17:55:36.577415 140002734540544 deprecation.py:323] From /opt/anaconda/miniconda3/envs/caispp-tensorflow/lib/python3.7/site-packages/tensorflow/python/ops/nn_impl.py:180: add_dispatch_support.<locals>.wrapper (from tensorflow.python.ops.array_ops) is deprecated and will be removed in a future version.\n",
      "Instructions for updating:\n",
      "Use tf.where in 2.0, which has the same broadcast rule as np.where\n"
     ]
    },
    {
     "name": "stdout",
     "output_type": "stream",
     "text": [
      "Model: \"model\"\n",
      "_________________________________________________________________\n",
      "Layer (type)                 Output Shape              Param #   \n",
      "=================================================================\n",
      "input_1 (InputLayer)         [(None, 7)]               0         \n",
      "_________________________________________________________________\n",
      "embedding (Embedding)        (None, 7, 7)              825398    \n",
      "_________________________________________________________________\n",
      "conv1d (Conv1D)              (None, 4, 128)            3712      \n",
      "_________________________________________________________________\n",
      "conv1d_1 (Conv1D)            (None, 3, 128)            32896     \n",
      "_________________________________________________________________\n",
      "flatten (Flatten)            (None, 384)               0         \n",
      "_________________________________________________________________\n",
      "dropout (Dropout)            (None, 384)               0         \n",
      "_________________________________________________________________\n",
      "dense (Dense)                (None, 128)               49280     \n",
      "_________________________________________________________________\n",
      "dense_1 (Dense)              (None, 2)                 258       \n",
      "=================================================================\n",
      "Total params: 911,544\n",
      "Trainable params: 86,146\n",
      "Non-trainable params: 825,398\n",
      "_________________________________________________________________\n"
     ]
    }
   ],
   "source": [
    "model = Model(sequence_input, preds)\n",
    "model.compile(loss='binary_crossentropy',\n",
    "              optimizer=\"adam\",\n",
    "              metrics=['acc'])\n",
    "model.summary()"
   ]
  },
  {
   "cell_type": "code",
   "execution_count": null,
   "metadata": {},
   "outputs": [
    {
     "name": "stdout",
     "output_type": "stream",
     "text": [
      "Training Progress:\n",
      "Train on 87781 samples, validate on 37620 samples\n",
      "Epoch 1/100\n",
      "87781/87781 [==============================] - 2s 28us/sample - loss: 0.6823 - acc: 0.5519 - val_loss: 0.6713 - val_acc: 0.5682\n",
      "Epoch 2/100\n",
      "87781/87781 [==============================] - 2s 17us/sample - loss: 0.6679 - acc: 0.5745 - val_loss: 0.6643 - val_acc: 0.5773\n",
      "Epoch 3/100\n",
      "87781/87781 [==============================] - 2s 17us/sample - loss: 0.6615 - acc: 0.5825 - val_loss: 0.6671 - val_acc: 0.5690\n",
      "Epoch 4/100\n",
      "87781/87781 [==============================] - 1s 17us/sample - loss: 0.6565 - acc: 0.5915 - val_loss: 0.6545 - val_acc: 0.5922\n",
      "Epoch 5/100\n",
      "30208/87781 [=========>....................] - ETA: 0s - loss: 0.6511 - acc: 0.5978"
     ]
    }
   ],
   "source": [
    "print(\"Training Progress:\")\n",
    "model.fit(x_train, y_train, validation_data=(x_val, y_val),\n",
    "          epochs=100, batch_size=128)"
   ]
  },
  {
   "cell_type": "code",
   "execution_count": null,
   "metadata": {},
   "outputs": [],
   "source": []
  }
 ],
 "metadata": {
  "kernelspec": {
   "display_name": "Python 3",
   "language": "python",
   "name": "python3"
  },
  "language_info": {
   "codemirror_mode": {
    "name": "ipython",
    "version": 3
   },
   "file_extension": ".py",
   "mimetype": "text/x-python",
   "name": "python",
   "nbconvert_exporter": "python",
   "pygments_lexer": "ipython3",
   "version": "3.7.4"
  }
 },
 "nbformat": 4,
 "nbformat_minor": 2
}
