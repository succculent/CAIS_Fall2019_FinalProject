{
 "cells": [
  {
   "cell_type": "code",
   "execution_count": 33,
   "metadata": {},
   "outputs": [],
   "source": [
    "import csv\n",
    "\n",
    "import numpy as np\n",
    "import pandas as pd\n",
    "from tensorflow.keras.preprocessing.text import Tokenizer"
   ]
  },
  {
   "cell_type": "code",
   "execution_count": 34,
   "metadata": {},
   "outputs": [],
   "source": [
    "train_df = pd.read_csv('/hdd/datasets/sarcasm/train-balanced-sarcasm.csv')"
   ]
  },
  {
   "cell_type": "code",
   "execution_count": 38,
   "metadata": {},
   "outputs": [
    {
     "name": "stdout",
     "output_type": "stream",
     "text": [
      "   label                                            comment\n",
      "0      0                                         NC and NH.\n",
      "1      0  You do know west teams play against west teams...\n",
      "2      0  They were underdogs earlier today, but since G...\n",
      "3      0  This meme isn't funny none of the \"new york ni...\n",
      "4      0                    I could use one of those tools.\n"
     ]
    }
   ],
   "source": [
    "train_df = train_df.drop(train_df.columns[[2,3,4,5,6,7,8,9]], axis=1)\n",
    "print(train_df.head())\n",
    "\n",
    "comments = train_df['comment'].tolist()\n",
    "comments = [i.split(' ') for i in comments if isinstance(i, str)]"
   ]
  },
  {
   "cell_type": "code",
   "execution_count": 39,
   "metadata": {},
   "outputs": [],
   "source": [
    "tokenizer = Tokenizer(num_words=10000)\n",
    "tokenizer.fit_on_texts(comments)"
   ]
  },
  {
   "cell_type": "code",
   "execution_count": 42,
   "metadata": {},
   "outputs": [
    {
     "name": "stdout",
     "output_type": "stream",
     "text": [
      "[['NC', 'and', 'NH.'], ['You', 'do', 'know', 'west', 'teams', 'play', 'against', 'west', 'teams', 'more', 'than', 'east', 'teams', 'right?']]\n",
      "[[6425, 5], [6, 48, 65, 1182, 749, 163, 235, 1182, 749, 53, 75, 1363, 749, 194]]\n"
     ]
    }
   ],
   "source": [
    "print(comments[:2])\n",
    "print(tokenizer.texts_to_sequences(comments[:2]))"
   ]
  },
  {
   "cell_type": "code",
   "execution_count": null,
   "metadata": {},
   "outputs": [],
   "source": []
  }
 ],
 "metadata": {
  "kernelspec": {
   "display_name": "Python 3",
   "language": "python",
   "name": "python3"
  },
  "language_info": {
   "codemirror_mode": {
    "name": "ipython",
    "version": 3
   },
   "file_extension": ".py",
   "mimetype": "text/x-python",
   "name": "python",
   "nbconvert_exporter": "python",
   "pygments_lexer": "ipython3",
   "version": "3.7.4"
  }
 },
 "nbformat": 4,
 "nbformat_minor": 2
}
